{
 "cells": [
  {
   "cell_type": "code",
   "execution_count": 25,
   "id": "3dc8bd34",
   "metadata": {},
   "outputs": [],
   "source": [
    "# 13.1 Write the current date as a string to the text file today.txt.\n",
    "\n",
    "import datetime\n",
    "with open(\"today.txt\", \"w\") as file_name:\n",
    "    today = str(datetime.date.today())\n",
    "    file_name.writelines(today)"
   ]
  },
  {
   "cell_type": "code",
   "execution_count": 44,
   "id": "6763fea7",
   "metadata": {},
   "outputs": [
    {
     "name": "stdout",
     "output_type": "stream",
     "text": [
      "2023-02-25\n"
     ]
    }
   ],
   "source": [
    "# 13.2 Read the text file today.txt into the string today_string.\n",
    "import datetime\n",
    "with open(\"today.txt\", \"r\") as file_name:\n",
    "    today_string = str(file_name.read())\n",
    "    print(today_string)"
   ]
  },
  {
   "cell_type": "code",
   "execution_count": 41,
   "id": "6c6586dc",
   "metadata": {},
   "outputs": [
    {
     "data": {
      "text/plain": [
       "datetime.datetime(2023, 2, 25, 0, 0)"
      ]
     },
     "execution_count": 41,
     "metadata": {},
     "output_type": "execute_result"
    }
   ],
   "source": [
    "#13.3 Parse the date from today_string.\n",
    "\n",
    "from datetime import datetime\n",
    "from dateutil import parser\n",
    "with open(\"today.txt\", \"r\") as file_name:\n",
    "    today_string = str(file_name.read())\n",
    "\n",
    "parser.parse(today_string)\n",
    "\n",
    "\n"
   ]
  },
  {
   "cell_type": "code",
   "execution_count": 65,
   "id": "675b9bc3",
   "metadata": {},
   "outputs": [
    {
     "name": "stdout",
     "output_type": "stream",
     "text": [
      "1 seconds later\n",
      "20:17:46.483013\n",
      "1 seconds later\n",
      "20:17:47.499370\n",
      "1 seconds later\n",
      "20:17:48.502418\n"
     ]
    }
   ],
   "source": [
    "#15.1 Use multiprocessing to create three separate processes. Make each one wait a random number of seconds between zero and one, print the current time, and then exit.\n",
    "\n",
    "import multiprocessing, random\n",
    "import datetime\n",
    "import os\n",
    "\n",
    "def process():\n",
    "    wait = random.randint(0,1)\n",
    "    print(str(wait)+\" seconds later\")\n",
    "    time.sleep(wait)\n",
    "    now = datetime.datetime.now()\n",
    "    print(now.time())\n",
    "\n",
    "if __name__ == \"__main__\":\n",
    "    \n",
    "    process1 = multiprocessing.Process(target=process())\n",
    "    process2 = multiprocessing.Process(target=process())\n",
    "    process3 = multiprocessing.Process(target=process())\n",
    "    \n",
    "    process1.start()\n",
    "    process2.start()\n",
    "    process3.start()\n",
    "\n",
    "    process1.join()\n",
    "    process2.join()\n",
    "    process3.join()"
   ]
  },
  {
   "cell_type": "code",
   "execution_count": null,
   "id": "d95eca9e",
   "metadata": {},
   "outputs": [],
   "source": []
  }
 ],
 "metadata": {
  "kernelspec": {
   "display_name": "Python 3 (ipykernel)",
   "language": "python",
   "name": "python3"
  },
  "language_info": {
   "codemirror_mode": {
    "name": "ipython",
    "version": 3
   },
   "file_extension": ".py",
   "mimetype": "text/x-python",
   "name": "python",
   "nbconvert_exporter": "python",
   "pygments_lexer": "ipython3",
   "version": "3.9.13"
  }
 },
 "nbformat": 4,
 "nbformat_minor": 5
}
